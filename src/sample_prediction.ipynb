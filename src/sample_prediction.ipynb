{
 "cells": [
  {
   "cell_type": "code",
   "execution_count": 1,
   "metadata": {},
   "outputs": [],
   "source": [
    "import pandas as pd\n",
    "import numpy as np\n",
    "from sklearn.ensemble import ExtraTreesClassifier\n",
    "import warnings\n",
    "warnings.filterwarnings('ignore')\n",
    "from sklearn import preprocessing\n",
    "from sklearn.metrics import f1_score\n",
    "from sklearn.metrics import accuracy_score\n",
    "from sklearn.metrics import confusion_matrix\n",
    "\n",
    "# Load the necessary data files\n",
    "df = pd.read_pickle(\"../data/featurized_data/dov_data.pkl\")\n",
    "df[\"concatenated_fv\"] = df[\"concatenated_fv\"] + df[\"reverb_feat\"]\n",
    "feat = \"concatenated_fv\" # Contains the full-length feature vector"
   ]
  },
  {
   "cell_type": "code",
   "execution_count": 2,
   "metadata": {},
   "outputs": [
    {
     "data": {
      "text/plain": [
       "ExtraTreesClassifier(bootstrap=False, ccp_alpha=0.0, class_weight=None,\n",
       "                     criterion='gini', max_depth=None, max_features='auto',\n",
       "                     max_leaf_nodes=None, max_samples=None,\n",
       "                     min_impurity_decrease=0.0, min_impurity_split=None,\n",
       "                     min_samples_leaf=1, min_samples_split=2,\n",
       "                     min_weight_fraction_leaf=0.0, n_estimators=1000,\n",
       "                     n_jobs=None, oob_score=False, random_state=None, verbose=0,\n",
       "                     warm_start=False)"
      ]
     },
     "execution_count": 2,
     "metadata": {},
     "output_type": "execute_result"
    }
   ],
   "source": [
    "# Train an eight-way classifier for each rotation angle\n",
    "X_train = df[\"concatenated_fv\"].tolist()\n",
    "Y_train = df[\"rotation\"].tolist()\n",
    "X_train = np.array(X_train)\n",
    "Y_train = np.array(Y_train)\n",
    "X_train = np.nan_to_num(X_train)\n",
    "Y_train = Y_train.reshape(-1,1)\n",
    "min_max_scaler = preprocessing.MinMaxScaler()\n",
    "X_train = min_max_scaler.fit_transform(X_train)\n",
    "clf = ExtraTreesClassifier(n_estimators=1000)\n",
    "clf.fit(X_train,Y_train)"
   ]
  },
  {
   "cell_type": "code",
   "execution_count": 5,
   "metadata": {},
   "outputs": [
    {
     "name": "stdout",
     "output_type": "stream",
     "text": [
      "Predicted direction of voice is 180.0 degrees\n"
     ]
    }
   ],
   "source": [
    "# Predict the direction of voice from a sample recording\n",
    "\n",
    "from featurize import features_for_mic_group, get_concat_fv\n",
    "\n",
    "MIC_GROUP = [[0, 1], [0, 2], [0, 3], [1, 2], [1, 3], [2, 3]]\n",
    "fs = 48000\n",
    "c_size = None\n",
    "avg_channels = False\n",
    "\n",
    "folder = \"../data/example_wav/180/\"\n",
    "filename = \"channel\"\n",
    "wavs, features_gcc, features_xcorr_gcc, acorr_gcc, features_per_wav, extended_fv, autocorr_feat, reverb_sl = features_for_mic_group(folder, filename, fs, MIC_GROUP, c_size, avg_channels)\n",
    "fv = get_concat_fv(features_gcc, autocorr_feat, features_per_wav, extended_fv, avg_channels)\n",
    "test_fv = [fv + reverb_sl]\n",
    "X_test = np.array(test_fv)\n",
    "X_test = np.nan_to_num(X_test)\n",
    "X_test = min_max_scaler.transform(X_test)\n",
    "rot_pred = clf.predict(X_test)[0]\n",
    "\n",
    "print(\"Predicted direction of voice is\", rot_pred, \"degrees\")\n"
   ]
  },
  {
   "cell_type": "code",
   "execution_count": null,
   "metadata": {},
   "outputs": [],
   "source": []
  },
  {
   "cell_type": "code",
   "execution_count": null,
   "metadata": {},
   "outputs": [],
   "source": []
  },
  {
   "cell_type": "code",
   "execution_count": null,
   "metadata": {},
   "outputs": [],
   "source": []
  },
  {
   "cell_type": "code",
   "execution_count": null,
   "metadata": {},
   "outputs": [],
   "source": []
  },
  {
   "cell_type": "code",
   "execution_count": null,
   "metadata": {},
   "outputs": [],
   "source": []
  }
 ],
 "metadata": {
  "kernelspec": {
   "display_name": "Python 3",
   "language": "python",
   "name": "python3"
  },
  "language_info": {
   "codemirror_mode": {
    "name": "ipython",
    "version": 3
   },
   "file_extension": ".py",
   "mimetype": "text/x-python",
   "name": "python",
   "nbconvert_exporter": "python",
   "pygments_lexer": "ipython3",
   "version": "3.7.10"
  }
 },
 "nbformat": 4,
 "nbformat_minor": 4
}
