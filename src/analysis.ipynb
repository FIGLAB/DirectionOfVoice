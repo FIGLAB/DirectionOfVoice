{
 "cells": [
  {
   "cell_type": "code",
   "execution_count": 1,
   "metadata": {},
   "outputs": [],
   "source": [
    "import pandas as pd\n",
    "import numpy as np\n",
    "from sklearn.ensemble import ExtraTreesClassifier\n",
    "import warnings\n",
    "warnings.filterwarnings('ignore')\n",
    "from sklearn import preprocessing\n",
    "from sklearn.metrics import f1_score\n",
    "from sklearn.metrics import accuracy_score\n",
    "from sklearn.metrics import confusion_matrix\n",
    "\n",
    "# Load the featurized data from all 10 participants across all conditions\n",
    "df = pd.read_pickle(\"../data/featurized_data/dov_data.pkl\")\n",
    "df[\"concatenated_fv\"] = df[\"concatenated_fv\"] + df[\"reverb_feat\"]\n",
    "\n",
    "# Options for feat (features) are:\n",
    "# concatenated_fv -> Concatenated feature vector encompassing all features\n",
    "# gcc_feat -> Crispness of first wavefront\n",
    "# per_wav_feat -> Voice frequency distribution\n",
    "\n",
    "# Options for control are:\n",
    "# session -> Cross session \n",
    "# geometry -> Cross placement\n",
    "# room_id -> Cross room\n",
    "# subject_id -> Cross subject\n",
    "# utterance -> Cross utterance\n",
    "\n",
    "feat = \"concatenated_fv\"\n",
    "control = \"session\"\n",
    "\n",
    "df_group = df.groupby([control])[\"rotation\",feat]\n",
    "\n",
    "g_id = list(df_group.groups.keys())"
   ]
  },
  {
   "cell_type": "code",
   "execution_count": 2,
   "metadata": {},
   "outputs": [
    {
     "name": "stdout",
     "output_type": "stream",
     "text": [
      "Accuracy for session 1.0  =  0.9157986111111112\n",
      "Accuracy for session 2.0  =  0.9194444444444444\n"
     ]
    }
   ],
   "source": [
    "Y_OUT, Y_GT = None, None\n",
    "\n",
    "for i in range(len(g_id)):\n",
    "    X_train, Y_train, X_test, Y_test = None, None, None, None\n",
    "    for j in range(len(g_id)):\n",
    "        df_extract = df_group.get_group(g_id[j])\n",
    "        x = np.array(df_extract[feat].tolist())\n",
    "        y = np.array(df_extract['rotation'].tolist())\n",
    "        if g_id[i] == g_id[j]:\n",
    "            X_train = x\n",
    "            Y_train = y\n",
    "            if feat == \"gcc_feat\":\n",
    "                X_train = np.reshape(X_train, (X_train.shape[0],X_train.shape[1]*X_train.shape[2]))\n",
    "        else:\n",
    "            if feat == \"gcc_feat\":\n",
    "                x = np.reshape(x, (x.shape[0],x.shape[1]*x.shape[2]))\n",
    "            if X_test is None:\n",
    "                X_test = x\n",
    "                Y_test = y\n",
    "            else:\n",
    "                X_test = np.vstack((X_test,x))\n",
    "                Y_test = np.vstack((Y_test,y))\n",
    "\n",
    "    X_train = np.nan_to_num(X_train)\n",
    "    X_test = np.nan_to_num(X_test)\n",
    "    Y_train = Y_train.reshape(-1,1)\n",
    "    \n",
    "    min_max_scaler = preprocessing.MinMaxScaler()\n",
    "    X_train = min_max_scaler.fit_transform(X_train)\n",
    "    X_test = min_max_scaler.transform(X_test)\n",
    "\n",
    "    clf = ExtraTreesClassifier(n_estimators=1000)\n",
    "    \n",
    "    clf.fit(X_train,Y_train)\n",
    "    Y_out = clf.predict(X_test)\n",
    "    \n",
    "    Y_test = Y_test.flatten()\n",
    "    \n",
    "    Y_out = Y_out.tolist()\n",
    "    Y_test = Y_test.tolist()\n",
    "    \n",
    "    if Y_GT is None:\n",
    "        Y_OUT = Y_out\n",
    "        Y_GT = Y_test\n",
    "    else:\n",
    "        Y_OUT = Y_OUT + Y_out\n",
    "        Y_GT = Y_GT + Y_test\n",
    "        \n",
    "    facing_rot = [0,45,315] # Forward facing criterion\n",
    "    Y_true = [1 if x in facing_rot else 0 for x in Y_test]\n",
    "    Y_pred = [1 if x in facing_rot else 0 for x in Y_out]\n",
    "    print(\"Accuracy for\",control,g_id[i],\" = \",accuracy_score(Y_true,Y_pred))\n",
    "    "
   ]
  },
  {
   "cell_type": "code",
   "execution_count": 3,
   "metadata": {},
   "outputs": [
    {
     "name": "stdout",
     "output_type": "stream",
     "text": [
      "Condition: Directly Facing : Acc:  0.9313368055555555  F1:  0.8453953079564887\n",
      "Condition: Forward Facing : Acc:  0.9176215277777777  F1:  0.9110600273793248\n",
      "Condition: Mouth line-of-sight : Acc:  0.87265625  F1:  0.8680650333749054\n",
      "Condition: 8-way classifier: Acc:  0.6623263888888888  F1:  0.6643364620523984\n"
     ]
    }
   ],
   "source": [
    "# Accuracy across different facing conditions\n",
    "facing_rots = [[0],[0,45,315],[0,45,315,90,270]]\n",
    "conditions_rots = [\"Directly Facing\",\"Forward Facing\",\"Mouth line-of-sight\"]\n",
    "\n",
    "for i in range(len(facing_rots)):\n",
    "    Y_true = [1 if x in facing_rots[i] else 0 for x in Y_GT]\n",
    "    Y_pred = [1 if x in facing_rots[i] else 0 for x in Y_OUT]\n",
    "    acc = accuracy_score(Y_true,Y_pred)\n",
    "    f1_weighted = f1_score(Y_true, Y_pred, average='macro')\n",
    "    print(\"Condition:\",conditions_rots[i], \": Acc: \",acc,\" F1: \", f1_weighted)\n",
    "\n",
    "acc = accuracy_score(Y_GT,Y_OUT)\n",
    "f1_weighted = f1_score(Y_GT,Y_OUT, average='macro')\n",
    "print(\"Condition: 8-way classifier:\", \"Acc: \",acc,\" F1: \", f1_weighted)"
   ]
  },
  {
   "cell_type": "code",
   "execution_count": null,
   "metadata": {},
   "outputs": [],
   "source": []
  }
 ],
 "metadata": {
  "kernelspec": {
   "display_name": "Python 3",
   "language": "python",
   "name": "python3"
  },
  "language_info": {
   "codemirror_mode": {
    "name": "ipython",
    "version": 3
   },
   "file_extension": ".py",
   "mimetype": "text/x-python",
   "name": "python",
   "nbconvert_exporter": "python",
   "pygments_lexer": "ipython3",
   "version": "3.7.10"
  }
 },
 "nbformat": 4,
 "nbformat_minor": 4
}
